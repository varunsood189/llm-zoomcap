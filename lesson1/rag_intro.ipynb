{
 "cells": [
  {
   "cell_type": "markdown",
   "id": "a5f7426e-701a-46b0-a300-edf851e5b3d3",
   "metadata": {},
   "source": [
    "### code from https://github.com/DataTalksClub/llm-zoomcamp/blob/main/01-intro/rag-intro.ipynb"
   ]
  },
  {
   "cell_type": "code",
   "execution_count": 1,
   "id": "88e57bfa-a2a9-4a0b-a79b-baff3041ec05",
   "metadata": {},
   "outputs": [
    {
     "name": "stdout",
     "output_type": "stream",
     "text": [
      "--2024-09-19 13:47:34--  https://raw.githubusercontent.com/alexeygrigorev/minsearch/main/minsearch.py\n",
      "Resolving raw.githubusercontent.com (raw.githubusercontent.com)... 185.199.108.133, 185.199.111.133, 185.199.110.133, ...\n",
      "Connecting to raw.githubusercontent.com (raw.githubusercontent.com)|185.199.108.133|:443... connected.\n",
      "HTTP request sent, awaiting response... 200 OK\n",
      "Length: 3832 (3.7K) [text/plain]\n",
      "Saving to: ‘minsearch.py.2’\n",
      "\n",
      "minsearch.py.2      100%[===================>]   3.74K  --.-KB/s    in 0.001s  \n",
      "\n",
      "2024-09-19 13:47:34 (5.43 MB/s) - ‘minsearch.py.2’ saved [3832/3832]\n",
      "\n"
     ]
    }
   ],
   "source": [
    "# !wget https://raw.githubusercontent.com/alexeygrigorev/minsearch/main/minsearch.py"
   ]
  },
  {
   "cell_type": "code",
   "execution_count": 1,
   "id": "71a67c1d-f728-4617-9f61-1935156a567a",
   "metadata": {},
   "outputs": [],
   "source": [
    "import minsearch"
   ]
  },
  {
   "cell_type": "code",
   "execution_count": 2,
   "id": "21f09cea-ec86-4b52-b7ab-4be8946c4f84",
   "metadata": {},
   "outputs": [],
   "source": [
    "import json"
   ]
  },
  {
   "cell_type": "code",
   "execution_count": 3,
   "id": "623c3cfe-bf2a-41b7-bbb7-50c130a6d772",
   "metadata": {},
   "outputs": [],
   "source": [
    "with open('documents.json','rt') as f_in:\n",
    "    docs_raw = json.load(f_in)"
   ]
  },
  {
   "cell_type": "code",
   "execution_count": 4,
   "id": "75ddd35d-5150-4cc1-adb5-75b912871f40",
   "metadata": {},
   "outputs": [],
   "source": [
    "documents =[]\n",
    "for docs in docs_raw:\n",
    "    for doc in  docs[\"documents\"]: \n",
    "        doc[\"course\"] =docs[\"course\"]\n",
    "        documents.append(doc)"
   ]
  },
  {
   "cell_type": "code",
   "execution_count": 5,
   "id": "654ea9e7-5492-440e-9008-bc0fc4ed4a25",
   "metadata": {},
   "outputs": [
    {
     "data": {
      "text/plain": [
       "dict_keys(['text', 'section', 'question', 'course'])"
      ]
     },
     "execution_count": 5,
     "metadata": {},
     "output_type": "execute_result"
    }
   ],
   "source": [
    "documents[0].keys()"
   ]
  },
  {
   "cell_type": "code",
   "execution_count": 6,
   "id": "52c1c09b-4958-4ed6-8b6c-74ea5862f7d3",
   "metadata": {},
   "outputs": [],
   "source": [
    "from minsearch import Index\n",
    "\n",
    "index = Index(\n",
    "    text_fields=[\"question\", \"text\", \"section\"],\n",
    "    keyword_fields=[\"course\"]\n",
    ")"
   ]
  },
  {
   "cell_type": "code",
   "execution_count": 7,
   "id": "cd124726-0ee7-40ad-9fe6-bc21e7542e68",
   "metadata": {},
   "outputs": [
    {
     "data": {
      "text/plain": [
       "<minsearch.Index at 0x76ce4ee834d0>"
      ]
     },
     "execution_count": 7,
     "metadata": {},
     "output_type": "execute_result"
    }
   ],
   "source": [
    "index.fit(documents)"
   ]
  },
  {
   "cell_type": "code",
   "execution_count": 8,
   "id": "ee52c5b1-0900-4dbe-8b47-9c9df6557625",
   "metadata": {
    "scrolled": true
   },
   "outputs": [
    {
     "name": "stdout",
     "output_type": "stream",
     "text": [
      "{'text': \"Yes, even if you don't register, you're still eligible to submit.\\nBe aware, however, that there will be deadlines for turning in the final projects. So don't leave everything for the last minute.\", 'section': 'General course-related questions', 'question': 'Course - Can I still join the course after the start date?', 'course': 'data-engineering-zoomcamp'}\n",
      "{'text': 'Yes, we will keep all the materials after the course /finishes, so you can follow the course at your own pace after it finishes.\\nYou can also continue looking at the homeworks and continue preparing for the next cohort. I guess you can also start working on your final capstone project.', 'section': 'General course-related questions', 'question': 'Course - Can I follow the course after it finishes?', 'course': 'data-engineering-zoomcamp'}\n",
      "{'text': 'You can start by installing and setting up all the dependencies and requirements:\\nGoogle cloud account\\nGoogle Cloud SDK\\nPython 3 (installed with Anaconda)\\nGit\\nLook over the prerequisites and syllabus to see if you are comfortable with these subjects.', 'section': 'General course-related questions', 'question': 'Course - What can I do before the course starts?', 'course': 'data-engineering-zoomcamp'}\n",
      "{'text': \"The purpose of this document is to capture frequently asked\\ntechnical question\\nThe next cohort starts in Jan 2025. More inFo at DTC Article.\\nRegister before the course starts using this link.\\nJoin the course Telegram channel with announcements.\\nDon’t forget to register in DataTalks.Club's Slack and join the channel.\", 'section': 'General course-related questions', 'question': 'Course - When will the course start?', 'course': 'data-engineering-zoomcamp'}\n",
      "{'text': 'Yes, the slack channel remains open and you can ask questions there. But always search the channel first and second, check the FAQ (this document), most likely all your questions are already answered here.\\nYou can also tag the bot @ZoomcampQABot to help you conduct the search, but don’t rely on its answers 100%, it is pretty good though.', 'section': 'General course-related questions', 'question': 'Course - Can I get support if I take the course in the self-paced mode?', 'course': 'data-engineering-zoomcamp'}\n",
      "{'text': 'Star the repo! Share it with friends if you find it useful ❣️\\nCreate a PR if you see you can improve the text or the structure of the repository.', 'section': 'General course-related questions', 'question': 'How can we contribute to the course?', 'course': 'data-engineering-zoomcamp'}\n",
      "{'text': 'GitHub - See DE-zoomcamp  prerequisites', 'section': 'General course-related questions', 'question': 'Course - What are the prerequisites for this course?', 'course': 'data-engineering-zoomcamp'}\n",
      "{'text': \"No, you can only get a certificate if you finish the course with a “live” cohort. We don't award certificates for the self-paced mode. The reason is you need to peer-review capstone(s) after submitting a project. You can only peer-review projects at the time the course is running.\", 'section': 'General course-related questions', 'question': 'Certificate - Can I follow the course in a self-paced mode and get a certificate?', 'course': 'data-engineering-zoomcamp'}\n",
      "{'text': 'Yes, for simplicity (of troubleshooting against the recorded videos) and stability. [source]\\nBut Python 3.10 and 3.11 should work fine.', 'section': 'General course-related questions', 'question': 'Environment - Is Python 3.9 still the recommended version to use in 2024?', 'course': 'data-engineering-zoomcamp'}\n",
      "{'text': \"It's up to you which platform and environment you use for the course.\\nGithub codespaces or GCP VM are just possible options, but you can do the entire course from your laptop.\", 'section': 'General course-related questions', 'question': 'Environment - Do we really have to use GitHub codespaces? I already have PostgreSQL & Docker installed.', 'course': 'data-engineering-zoomcamp'}\n"
     ]
    }
   ],
   "source": [
    "query = \"The course has already started can i still enroll?\"\n",
    "\n",
    "filter_dict = {\"course\": \"data-engineering-zoomcamp\"}\n",
    "boost_dict = {\"question\": 3, \"section\": 0.5}\n",
    "\n",
    "results = index.search(\n",
    "    query,\n",
    "    filter_dict, \n",
    "    boost_dict\n",
    ")\n",
    "\n",
    "for result in results:\n",
    "    print(result)"
   ]
  },
  {
   "cell_type": "code",
   "execution_count": 9,
   "id": "e8953fcb-7d2b-45d7-bc0e-6bad9a848459",
   "metadata": {},
   "outputs": [],
   "source": [
    "prompt_template=\"\"\"\n",
    "You are a teaching assistant, Please answer the QUESTION based on facts from the CONTEXT, \n",
    "If CONTEXT doesnot have the facts, Please answer with NONE.\n",
    "\n",
    "QUESTION: {question}\n",
    "\n",
    "CONTEXT: {context}\n",
    "\"\"\".strip()"
   ]
  },
  {
   "cell_type": "code",
   "execution_count": 10,
   "id": "24441164-716d-46b7-bb17-76a89e0e3b6d",
   "metadata": {},
   "outputs": [],
   "source": [
    "from ai21 import AI21Client\n",
    "from ai21.models.chat import UserMessage\n",
    "\n",
    "# One way of passing your key to the client.\n",
    "import os\n",
    "AI21_API_KEY = os.environ[\"AI21_API_KEY\"]\n",
    "client = AI21Client(api_key=AI21_API_KEY)\n",
    "\n",
    "def single_message_instruct(content):\n",
    "    messages = [UserMessage(content=content)]\n",
    "    response = client.chat.completions.create(\n",
    "        model=\"jamba-1.5-large\",\n",
    "        messages=messages,\n",
    "        top_p=1.0 # Setting to 1 encourages different responses each call.\n",
    "    )\n",
    "    return response.to_json()\n"
   ]
  },
  {
   "cell_type": "code",
   "execution_count": 11,
   "id": "7a2854a1-11cd-4cf1-9ec1-dcdc692042b2",
   "metadata": {},
   "outputs": [
    {
     "name": "stderr",
     "output_type": "stream",
     "text": [
      "/tmp/ipykernel_45675/971532400.py:16: DeprecationWarning: The 'to_json' method is deprecated and will be removed in a future version. Please use Pydantic's built-in methods instead.\n",
      "  return response.to_json()\n"
     ]
    }
   ],
   "source": [
    "response = single_message_instruct(query)"
   ]
  },
  {
   "cell_type": "code",
   "execution_count": 12,
   "id": "ad88119f-72d6-4bde-b9ee-1af1a79fcd07",
   "metadata": {},
   "outputs": [
    {
     "data": {
      "text/plain": [
       "'Yes, you can still enroll in the course. The enrollment period is still open, and you can register for the course at any time.'"
      ]
     },
     "execution_count": 12,
     "metadata": {},
     "output_type": "execute_result"
    }
   ],
   "source": [
    "import json\n",
    "json_response = json.loads(response)\n",
    "json_response[\"choices\"][0][\"message\"][\"content\"]"
   ]
  },
  {
   "cell_type": "code",
   "execution_count": 13,
   "id": "d9610ac9-a437-4b97-af97-22a67bd2fe64",
   "metadata": {},
   "outputs": [],
   "source": [
    "def something_new(content):\n",
    "    response = single_message_instruct(content)\n",
    "    json_response = json.loads(response)\n",
    "    content = json_response[\"choices\"][0][\"message\"][\"content\"]\n",
    "    return content"
   ]
  },
  {
   "cell_type": "code",
   "execution_count": 14,
   "id": "e1bc32da-1354-4cad-bf4c-b6d3c84be5ae",
   "metadata": {},
   "outputs": [
    {
     "name": "stdout",
     "output_type": "stream",
     "text": [
      "Whether you can still enroll in a course that has already started depends on the policies of the institution or organization offering the course. Here are some general steps you can take to find out:\n",
      "\n",
      "1. **Check the Course Website**: Look for information on enrollment deadlines and policies on the course's official website.\n",
      "\n",
      "\n",
      "2. **Contact the Registrar or Admissions Office**: If it's an academic institution, the registrar or admissions office can provide specific details about late enrollment.\n",
      "\n",
      "\n",
      "3. **Reach Out to the Course Instructor**: Sometimes, the course instructor can give permission for late enrollment, especially if the course is not full.\n",
      "\n",
      "\n",
      "4. **Look for Online Forums or Groups**: If it's a popular course, there might be online forums or social media groups where you can ask current or past students about their experiences with late enrollment.\n",
      "\n",
      "\n",
      "5. **Visit the Institution**: If possible, visit the institution in person to inquire about enrollment options.\n",
      "\n",
      "\n",
      "If you provide more details about the course (e.g., the name of the course, the institution, and the format), I might be able to give more specific advice.\n"
     ]
    },
    {
     "name": "stderr",
     "output_type": "stream",
     "text": [
      "/tmp/ipykernel_45675/971532400.py:16: DeprecationWarning: The 'to_json' method is deprecated and will be removed in a future version. Please use Pydantic's built-in methods instead.\n",
      "  return response.to_json()\n"
     ]
    }
   ],
   "source": [
    "print(something_new(query))"
   ]
  },
  {
   "cell_type": "code",
   "execution_count": 15,
   "id": "f1a7a142-8c45-494f-9013-43ee047d6a5f",
   "metadata": {},
   "outputs": [],
   "source": [
    "context =\"\"\n",
    "for doc in results:\n",
    "    context =context+f\"section: {doc['section']} \\nquestion: {doc[\"question\"]}\\n answer: {doc[\"text\"]} \\n\\n\"\n",
    "    "
   ]
  },
  {
   "cell_type": "code",
   "execution_count": 16,
   "id": "60df5d9b-cc59-46cb-bc66-3306115157de",
   "metadata": {},
   "outputs": [],
   "source": [
    "prompt = prompt_template.format(question=query , context=context).strip()"
   ]
  },
  {
   "cell_type": "code",
   "execution_count": 17,
   "id": "1729e62e-2298-43e3-9307-6e92bef04fdc",
   "metadata": {
    "scrolled": true
   },
   "outputs": [
    {
     "name": "stdout",
     "output_type": "stream",
     "text": [
      "You are a teaching assistant, Please answer the QUESTION based on facts from the CONTEXT, \n",
      "If CONTEXT doesnot have the facts, Please answer with NONE.\n",
      "\n",
      "QUESTION: The course has already started can i still enroll?\n",
      "\n",
      "CONTEXT: section: General course-related questions \n",
      "question: Course - Can I still join the course after the start date?\n",
      " answer: Yes, even if you don't register, you're still eligible to submit.\n",
      "Be aware, however, that there will be deadlines for turning in the final projects. So don't leave everything for the last minute. \n",
      "\n",
      "section: General course-related questions \n",
      "question: Course - Can I follow the course after it finishes?\n",
      " answer: Yes, we will keep all the materials after the course /finishes, so you can follow the course at your own pace after it finishes.\n",
      "You can also continue looking at the homeworks and continue preparing for the next cohort. I guess you can also start working on your final capstone project. \n",
      "\n",
      "section: General course-related questions \n",
      "question: Course - What can I do before the course starts?\n",
      " answer: You can start by installing and setting up all the dependencies and requirements:\n",
      "Google cloud account\n",
      "Google Cloud SDK\n",
      "Python 3 (installed with Anaconda)\n",
      "Git\n",
      "Look over the prerequisites and syllabus to see if you are comfortable with these subjects. \n",
      "\n",
      "section: General course-related questions \n",
      "question: Course - When will the course start?\n",
      " answer: The purpose of this document is to capture frequently asked\n",
      "technical question\n",
      "The next cohort starts in Jan 2025. More inFo at DTC Article.\n",
      "Register before the course starts using this link.\n",
      "Join the course Telegram channel with announcements.\n",
      "Don’t forget to register in DataTalks.Club's Slack and join the channel. \n",
      "\n",
      "section: General course-related questions \n",
      "question: Course - Can I get support if I take the course in the self-paced mode?\n",
      " answer: Yes, the slack channel remains open and you can ask questions there. But always search the channel first and second, check the FAQ (this document), most likely all your questions are already answered here.\n",
      "You can also tag the bot @ZoomcampQABot to help you conduct the search, but don’t rely on its answers 100%, it is pretty good though. \n",
      "\n",
      "section: General course-related questions \n",
      "question: How can we contribute to the course?\n",
      " answer: Star the repo! Share it with friends if you find it useful ❣️\n",
      "Create a PR if you see you can improve the text or the structure of the repository. \n",
      "\n",
      "section: General course-related questions \n",
      "question: Course - What are the prerequisites for this course?\n",
      " answer: GitHub - See DE-zoomcamp  prerequisites \n",
      "\n",
      "section: General course-related questions \n",
      "question: Certificate - Can I follow the course in a self-paced mode and get a certificate?\n",
      " answer: No, you can only get a certificate if you finish the course with a “live” cohort. We don't award certificates for the self-paced mode. The reason is you need to peer-review capstone(s) after submitting a project. You can only peer-review projects at the time the course is running. \n",
      "\n",
      "section: General course-related questions \n",
      "question: Environment - Is Python 3.9 still the recommended version to use in 2024?\n",
      " answer: Yes, for simplicity (of troubleshooting against the recorded videos) and stability. [source]\n",
      "But Python 3.10 and 3.11 should work fine. \n",
      "\n",
      "section: General course-related questions \n",
      "question: Environment - Do we really have to use GitHub codespaces? I already have PostgreSQL & Docker installed.\n",
      " answer: It's up to you which platform and environment you use for the course.\n",
      "Github codespaces or GCP VM are just possible options, but you can do the entire course from your laptop.\n"
     ]
    }
   ],
   "source": [
    "print(prompt)"
   ]
  },
  {
   "cell_type": "code",
   "execution_count": 18,
   "id": "c8c48eed-3df3-40b1-942e-742282ea17c7",
   "metadata": {},
   "outputs": [
    {
     "name": "stdout",
     "output_type": "stream",
     "text": [
      "Yes, even if you don't register, you're still eligible to submit.\n",
      "Be aware, however, that there will be deadlines for turning in the final projects.\n"
     ]
    },
    {
     "name": "stderr",
     "output_type": "stream",
     "text": [
      "/tmp/ipykernel_45675/971532400.py:16: DeprecationWarning: The 'to_json' method is deprecated and will be removed in a future version. Please use Pydantic's built-in methods instead.\n",
      "  return response.to_json()\n"
     ]
    }
   ],
   "source": [
    "print(something_new(prompt))"
   ]
  },
  {
   "cell_type": "markdown",
   "id": "84eabf50-5e02-4fdf-8d4b-c6da872ee0d4",
   "metadata": {},
   "source": [
    "# modularization"
   ]
  },
  {
   "cell_type": "code",
   "execution_count": 19,
   "id": "7dddf174-d36e-4c62-b3d5-8f9aad6fb2a3",
   "metadata": {
    "scrolled": true
   },
   "outputs": [],
   "source": [
    "# rag: retrieval \n",
    "def search(query):    \n",
    "    filter_dict = {\"course\": \"data-engineering-zoomcamp\"}\n",
    "    boost_dict = {\"question\": 3, \"section\": 0.5}\n",
    "    \n",
    "    results = index.search(\n",
    "        query,\n",
    "        filter_dict, \n",
    "        boost_dict\n",
    "    )\n",
    "    return results\n",
    "search_results = search(\"The course has already started can i still enroll?\")"
   ]
  },
  {
   "cell_type": "code",
   "execution_count": 20,
   "id": "c33da40a-6cef-49eb-bdd4-aed49e0ccee0",
   "metadata": {},
   "outputs": [],
   "source": [
    "# rag: augmentation \n",
    "def build_prompt(query,search_results):\n",
    "    prompt_template=\"\"\"\n",
    "You are a teaching assistant, Please answer the QUESTION based on facts from the CONTEXT, \n",
    "If CONTEXT doesnot have the facts, Please answer with NONE.\n",
    "\n",
    "QUESTION: {question}\n",
    "\n",
    "CONTEXT: {context}\n",
    "\"\"\".strip()\n",
    "    context =\"\"\n",
    "    for doc in search_results:\n",
    "        context =context+f\"section: {doc['section']} \\nquestion: {doc[\"question\"]}\\n answer: {doc[\"text\"]} \\n\\n\"\n",
    "    prompt = prompt_template.format(question=query , context=context).strip()\n",
    "    return prompt \n",
    "prompt = build_prompt(query,search_results)"
   ]
  },
  {
   "cell_type": "code",
   "execution_count": 21,
   "id": "ae945ea7-76b8-4523-9dc4-6878642d53e5",
   "metadata": {},
   "outputs": [
    {
     "name": "stderr",
     "output_type": "stream",
     "text": [
      "/tmp/ipykernel_45675/1652257752.py:17: DeprecationWarning: The 'to_json' method is deprecated and will be removed in a future version. Please use Pydantic's built-in methods instead.\n",
      "  return response.to_json()\n"
     ]
    },
    {
     "data": {
      "text/plain": [
       "\"Yes, even if you don't register, you're still eligible to submit. Be aware, however, that there will be deadlines for turning in the final projects. So don't leave everything for the last minute.\""
      ]
     },
     "execution_count": 21,
     "metadata": {},
     "output_type": "execute_result"
    }
   ],
   "source": [
    "# rag: generation \n",
    "from ai21 import AI21Client\n",
    "from ai21.models.chat import UserMessage\n",
    "\n",
    "# One way of passing your key to the client.\n",
    "import os\n",
    "AI21_API_KEY = os.environ[\"AI21_API_KEY\"]\n",
    "client = AI21Client(api_key=AI21_API_KEY)\n",
    "\n",
    "def single_message_instruct(content):\n",
    "    messages = [UserMessage(content=content)]\n",
    "    response = client.chat.completions.create(\n",
    "        model=\"jamba-1.5-large\",\n",
    "        messages=messages,\n",
    "        top_p=1.0 # Setting to 1 encourages different responses each call.\n",
    "    )\n",
    "    return response.to_json()\n",
    "\n",
    "def llm(prompt):\n",
    "    response = single_message_instruct(prompt)\n",
    "    json_response = json.loads(response)\n",
    "    content = json_response[\"choices\"][0][\"message\"][\"content\"]\n",
    "    return content\n",
    "llm(prompt)\n"
   ]
  },
  {
   "cell_type": "code",
   "execution_count": 22,
   "id": "7c5c787e-0805-435a-a139-f8dae4dabae8",
   "metadata": {},
   "outputs": [
    {
     "name": "stderr",
     "output_type": "stream",
     "text": [
      "/tmp/ipykernel_45675/1652257752.py:17: DeprecationWarning: The 'to_json' method is deprecated and will be removed in a future version. Please use Pydantic's built-in methods instead.\n",
      "  return response.to_json()\n"
     ]
    },
    {
     "data": {
      "text/plain": [
       "\"To run Kafka, follow these steps:\\n\\n1. **Create a Virtual Environment**:\\n\\n\\n  * Run `python -m venv env` to create a virtual environment.\\n  * Activate the virtual environment using `source env/bin/activate` on MacOS and Linux or `env/Scripts/activate` on Windows.\\n  * Install the necessary packages using `pip install -r ../requirements.txt`.\\n\\t\\n2. **Run Kafka in Docker**:\\n\\n\\n  * Ensure all Docker images are up and running before creating the virtual environment.\\n\\t\\n3. **Run Java Kafka**:\\n\\n\\n  * In the project directory, run `java -cp build/libs/<jar_name>-1.0-SNAPSHOT.jar:out src/main/java/org/example/JsonProducer.java`.\\n\\t\\n4. **Fix ModuleNotFoundError**:\\n\\n\\n  * Use `pip install kafka-python-ng` instead of `kafka-python`.\\n\\t\\n5. **Run Python as a Startup Script**:\\n\\n\\n  * Redefine the python environment variable to that of your user account.\\n\\t\\n6. **Fix BigQuery Error in dbt run**:\\n\\n\\n  * Convert columns to the correct data type using `df[col] = df[col].astype('Int64')` for columns like `passenger_count`, `payment_type`, `RatecodeID`, `VendorID`, and `trip_type`.\\n\\t\\n7. **Check Spark Master Connection**:\\n\\n\\n  * Start a new terminal and run `docker ps`.\\n  * Copy the CONTAINER ID of the spark-master container.\\n  * Run `docker exec -it <spark_master_container_id> bash`.\\n  * Check the logs using `cat logs/spark-master.out` and Google the error message.\\n\\t\\n8. **Run seed-kafka Command**:\\n\\n\\n  * Use the git bash terminal in Windows.\\n  * Activate the python virtual environment using `source .venv/Scripts/activate`.\\n  * Modify the `seed_kafka.py` file by replacing `python3` with `python` in the first line.\\n  * Run the seed-kafka command from git bash.\\n\\t\\n9. **Fix Permission Denied Error for build.sh**:\\n\\n\\n  * Run `chmod +x build.sh` in the terminal in the same directory (/docker/spark).\\n\\t\\n10. **Resolve NoBrokersAvailable Error**:\\n\\n\\n  * Use `docker ps` to confirm if the Kafka broker docker container is working.\\n  * Run `docker compose up -d` in the docker compose yaml file folder to start all instances.\""
      ]
     },
     "execution_count": 22,
     "metadata": {},
     "output_type": "execute_result"
    }
   ],
   "source": [
    "query = \"How to run kafka?\"\n",
    "def rag(query):\n",
    "    search_results = search(query)\n",
    "    prompt = build_prompt(query,search_results)\n",
    "    answer = llm(prompt)\n",
    "    return answer\n",
    "rag(query)"
   ]
  },
  {
   "cell_type": "code",
   "execution_count": 23,
   "id": "5ab11c2d-817b-4557-993a-8f6cef8e6a48",
   "metadata": {},
   "outputs": [
    {
     "data": {
      "text/plain": [
       "{'text': \"The purpose of this document is to capture frequently asked\\ntechnical question\\nThe next cohort starts in Jan 2025. More inFo at DTC Article.\\nRegister before the course starts using this link.\\nJoin the course Telegram channel with announcements.\\nDon’t forget to register in DataTalks.Club's Slack and join the channel.\",\n",
       " 'section': 'General course-related questions',\n",
       " 'question': 'Course - When will the course start?',\n",
       " 'course': 'data-engineering-zoomcamp'}"
      ]
     },
     "execution_count": 23,
     "metadata": {},
     "output_type": "execute_result"
    }
   ],
   "source": [
    "documents[0]"
   ]
  },
  {
   "cell_type": "markdown",
   "id": "aba3e555-78df-4d05-b340-cc09ec8ee87c",
   "metadata": {},
   "source": [
    "# elastic search"
   ]
  },
  {
   "cell_type": "code",
   "execution_count": 24,
   "id": "2169bd3f-ab28-46ed-aca3-55e50b7d1f03",
   "metadata": {},
   "outputs": [],
   "source": [
    "from elasticsearch import Elasticsearch"
   ]
  },
  {
   "cell_type": "code",
   "execution_count": 25,
   "id": "07413dd3-8860-4f73-8e05-c39e9ac0d8bf",
   "metadata": {},
   "outputs": [],
   "source": [
    "es_client = Elasticsearch('http://localhost:9200')"
   ]
  },
  {
   "cell_type": "code",
   "execution_count": 26,
   "id": "6077ab5e-4679-43d7-bc78-fcf9df70cde0",
   "metadata": {},
   "outputs": [
    {
     "data": {
      "text/plain": [
       "ObjectApiResponse({'name': '5d6af4ae929f', 'cluster_name': 'docker-cluster', 'cluster_uuid': 'JdHYfsE_RdqUN_ILnu18sA', 'version': {'number': '8.4.3', 'build_flavor': 'default', 'build_type': 'docker', 'build_hash': '42f05b9372a9a4a470db3b52817899b99a76ee73', 'build_date': '2022-10-04T07:17:24.662462378Z', 'build_snapshot': False, 'lucene_version': '9.3.0', 'minimum_wire_compatibility_version': '7.17.0', 'minimum_index_compatibility_version': '7.0.0'}, 'tagline': 'You Know, for Search'})"
      ]
     },
     "execution_count": 26,
     "metadata": {},
     "output_type": "execute_result"
    }
   ],
   "source": [
    "es_client.info()"
   ]
  },
  {
   "cell_type": "code",
   "execution_count": 27,
   "id": "3a24c220-ac52-48d5-a978-140397cd21bd",
   "metadata": {},
   "outputs": [
    {
     "data": {
      "text/plain": [
       "ObjectApiResponse({'acknowledged': True, 'shards_acknowledged': True, 'index': 'course-questions'})"
      ]
     },
     "execution_count": 27,
     "metadata": {},
     "output_type": "execute_result"
    }
   ],
   "source": [
    "index_setting = {\n",
    "    \"settings\": {\n",
    "        \"number_of_shards\": 1,\n",
    "        \"number_of_replicas\": 0\n",
    "    },\n",
    "    \"mappings\": {\n",
    "        \"properties\": {\n",
    "            \"text\": {\"type\": \"text\"},\n",
    "            \"section\": {\"type\": \"text\"},\n",
    "            \"question\": {\"type\": \"text\"},\n",
    "            \"course\": {\"type\": \"keyword\"} \n",
    "        }\n",
    "    }\n",
    "}\n",
    "index_name= \"course-questions\"\n",
    "es_client.indices.create(index=index_name,body=index_setting)"
   ]
  },
  {
   "cell_type": "code",
   "execution_count": 28,
   "id": "ca044f45-e970-479f-8dc7-ccd83c338db4",
   "metadata": {},
   "outputs": [
    {
     "name": "stderr",
     "output_type": "stream",
     "text": [
      "/usr/local/python/3.12.1/lib/python3.12/site-packages/tqdm/auto.py:21: TqdmWarning: IProgress not found. Please update jupyter and ipywidgets. See https://ipywidgets.readthedocs.io/en/stable/user_install.html\n",
      "  from .autonotebook import tqdm as notebook_tqdm\n"
     ]
    }
   ],
   "source": [
    "from tqdm.auto import tqdm"
   ]
  },
  {
   "cell_type": "code",
   "execution_count": 29,
   "id": "cc2ed7d1-e778-4ddb-a2bf-d041c5b04972",
   "metadata": {},
   "outputs": [
    {
     "name": "stderr",
     "output_type": "stream",
     "text": [
      "100%|███████████████████████████████████████████████████████████████████████████████████████████████████████████████████████| 1031/1031 [00:26<00:00, 38.60it/s]\n"
     ]
    }
   ],
   "source": [
    "for doc in tqdm(documents):\n",
    "    es_client.index(index=index_name,document=doc)"
   ]
  },
  {
   "cell_type": "code",
   "execution_count": 38,
   "id": "db4c91fe-dfbc-48c3-9513-95b92b48823c",
   "metadata": {},
   "outputs": [],
   "source": [
    "query = \"The course has already started can i still enroll?\""
   ]
  },
  {
   "cell_type": "code",
   "execution_count": 39,
   "id": "ee041f45-47d1-4a7b-a522-150998756970",
   "metadata": {},
   "outputs": [],
   "source": [
    "search_query= {\n",
    "    \"size\": 5,\n",
    "    \"query\": {\n",
    "        \"bool\": {\n",
    "            \"must\": {\n",
    "                \"multi_match\": {\n",
    "                    \"query\": query,\n",
    "                    \"fields\": [\"question^3\", \"text\", \"section\"],\n",
    "                    \"type\": \"best_fields\"\n",
    "                }\n",
    "            },\n",
    "            \"filter\": {\n",
    "                \"term\": {\n",
    "                    \"course\": \"data-engineering-zoomcamp\"\n",
    "                }\n",
    "            }\n",
    "        }\n",
    "    }\n",
    "}\n"
   ]
  },
  {
   "cell_type": "code",
   "execution_count": 40,
   "id": "8eb0910b-f0cf-447b-bb87-5b38fcb496cc",
   "metadata": {},
   "outputs": [],
   "source": [
    "response= es_client.search(index=index_name,body=search_query)"
   ]
  },
  {
   "cell_type": "code",
   "execution_count": 41,
   "id": "d787432a-c622-40e7-bc5b-badcf19bc32b",
   "metadata": {},
   "outputs": [],
   "source": [
    "results_docs =[]\n",
    "for hit in response[\"hits\"][\"hits\"]:\n",
    "    results_docs.append(hit[\"_source\"])\n"
   ]
  },
  {
   "cell_type": "code",
   "execution_count": 42,
   "id": "ab1208f5-a09d-416f-a7f8-1d6e35a9d612",
   "metadata": {},
   "outputs": [],
   "source": [
    "filter_results = []\n",
    "temp={}\n",
    "for result in results_docs:\n",
    "    temp[\"text\"] =result[\"text\"]\n",
    "    temp[\"question\"] =result[\"question\"] \n",
    "    filter_results+=[temp]"
   ]
  },
  {
   "cell_type": "code",
   "execution_count": 43,
   "id": "3e01d6fe-5a10-4022-8414-c327fddc3bd2",
   "metadata": {},
   "outputs": [
    {
     "data": {
      "text/plain": [
       "[{'text': \"You don't need it. You're accepted. You can also just start learning and submitting homework without registering. It is not checked against any registered list. Registration is just to gauge interest before the start date.\",\n",
       "  'question': 'Course - I have registered for the Data Engineering Bootcamp. When can I expect to receive the confirmation email?'},\n",
       " {'text': \"You don't need it. You're accepted. You can also just start learning and submitting homework without registering. It is not checked against any registered list. Registration is just to gauge interest before the start date.\",\n",
       "  'question': 'Course - I have registered for the Data Engineering Bootcamp. When can I expect to receive the confirmation email?'},\n",
       " {'text': \"You don't need it. You're accepted. You can also just start learning and submitting homework without registering. It is not checked against any registered list. Registration is just to gauge interest before the start date.\",\n",
       "  'question': 'Course - I have registered for the Data Engineering Bootcamp. When can I expect to receive the confirmation email?'},\n",
       " {'text': \"You don't need it. You're accepted. You can also just start learning and submitting homework without registering. It is not checked against any registered list. Registration is just to gauge interest before the start date.\",\n",
       "  'question': 'Course - I have registered for the Data Engineering Bootcamp. When can I expect to receive the confirmation email?'},\n",
       " {'text': \"You don't need it. You're accepted. You can also just start learning and submitting homework without registering. It is not checked against any registered list. Registration is just to gauge interest before the start date.\",\n",
       "  'question': 'Course - I have registered for the Data Engineering Bootcamp. When can I expect to receive the confirmation email?'}]"
      ]
     },
     "execution_count": 43,
     "metadata": {},
     "output_type": "execute_result"
    }
   ],
   "source": [
    "filter_results"
   ]
  },
  {
   "cell_type": "code",
   "execution_count": 44,
   "id": "efb577bd-467b-4cc9-b784-94215bb9704c",
   "metadata": {},
   "outputs": [
    {
     "data": {
      "text/plain": [
       "[{'text': \"Yes, even if you don't register, you're still eligible to submit.\\nBe aware, however, that there will be deadlines for turning in the final projects. So don't leave everything for the last minute.\",\n",
       "  'section': 'General course-related questions',\n",
       "  'question': 'Course - Can I still join the course after the start date?',\n",
       "  'course': 'data-engineering-zoomcamp'},\n",
       " {'text': 'You can start by installing and setting up all the dependencies and requirements:\\nGoogle cloud account\\nGoogle Cloud SDK\\nPython 3 (installed with Anaconda)\\nGit\\nLook over the prerequisites and syllabus to see if you are comfortable with these subjects.',\n",
       "  'section': 'General course-related questions',\n",
       "  'question': 'Course - What can I do before the course starts?',\n",
       "  'course': 'data-engineering-zoomcamp'},\n",
       " {'text': 'Yes, we will keep all the materials after the course /finishes, so you can follow the course at your own pace after it finishes.\\nYou can also continue looking at the homeworks and continue preparing for the next cohort. I guess you can also start working on your final capstone project.',\n",
       "  'section': 'General course-related questions',\n",
       "  'question': 'Course - Can I follow the course after it finishes?',\n",
       "  'course': 'data-engineering-zoomcamp'},\n",
       " {'text': 'Yes, the slack channel remains open and you can ask questions there. But always search the channel first and second, check the FAQ (this document), most likely all your questions are already answered here.\\nYou can also tag the bot @ZoomcampQABot to help you conduct the search, but don’t rely on its answers 100%, it is pretty good though.',\n",
       "  'section': 'General course-related questions',\n",
       "  'question': 'Course - Can I get support if I take the course in the self-paced mode?',\n",
       "  'course': 'data-engineering-zoomcamp'},\n",
       " {'text': \"You don't need it. You're accepted. You can also just start learning and submitting homework without registering. It is not checked against any registered list. Registration is just to gauge interest before the start date.\",\n",
       "  'section': 'General course-related questions',\n",
       "  'question': 'Course - I have registered for the Data Engineering Bootcamp. When can I expect to receive the confirmation email?',\n",
       "  'course': 'data-engineering-zoomcamp'}]"
      ]
     },
     "execution_count": 44,
     "metadata": {},
     "output_type": "execute_result"
    }
   ],
   "source": [
    "def elastic_search(query):\n",
    "    search_query= {\n",
    "    \"size\": 5,\n",
    "    \"query\": {\n",
    "        \"bool\": {\n",
    "            \"must\": {\n",
    "                \"multi_match\": {\n",
    "                    \"query\": query,\n",
    "                    \"fields\": [\"question^3\", \"text\", \"section\"],\n",
    "                    \"type\": \"best_fields\"\n",
    "                }\n",
    "            },\n",
    "            \"filter\": {\n",
    "                \"term\": {\n",
    "                    \"course\": \"data-engineering-zoomcamp\"\n",
    "                }\n",
    "            }\n",
    "        }\n",
    "    }\n",
    "    }\n",
    "\n",
    "    response= es_client.search(index=index_name,body=search_query)\n",
    "    results_docs =[]\n",
    "    for hit in response[\"hits\"][\"hits\"]:\n",
    "        results_docs.append(hit[\"_source\"])\n",
    "    return results_docs\n",
    "\n",
    "elastic_search(query)"
   ]
  },
  {
   "cell_type": "code",
   "execution_count": 45,
   "id": "a817c9fa-15a0-4060-98ea-a2976dabc472",
   "metadata": {},
   "outputs": [
    {
     "name": "stderr",
     "output_type": "stream",
     "text": [
      "/tmp/ipykernel_45675/1652257752.py:17: DeprecationWarning: The 'to_json' method is deprecated and will be removed in a future version. Please use Pydantic's built-in methods instead.\n",
      "  return response.to_json()\n"
     ]
    },
    {
     "data": {
      "text/plain": [
       "\"Yes, even if you don't register, you're still eligible to submit.\\nBe aware, however, that there will be deadlines for turning in the final projects. So don't leave everything for the last minute.\""
      ]
     },
     "execution_count": 45,
     "metadata": {},
     "output_type": "execute_result"
    }
   ],
   "source": [
    "def rag(query):\n",
    "    search_results = elastic_search(query)\n",
    "    prompt = build_prompt(query,search_results)\n",
    "    answer = llm(prompt)\n",
    "    return answer\n",
    "    \n",
    "query = \"The course has already started can i still enroll?\"\n",
    "rag(query)"
   ]
  },
  {
   "cell_type": "code",
   "execution_count": null,
   "id": "20698df4-0504-40a6-b63f-fd0a98a3f448",
   "metadata": {},
   "outputs": [],
   "source": []
  },
  {
   "cell_type": "code",
   "execution_count": null,
   "id": "3398a4d5-4dfd-4b8b-a8de-554913c14442",
   "metadata": {},
   "outputs": [],
   "source": []
  }
 ],
 "metadata": {
  "kernelspec": {
   "display_name": "Python 3 (ipykernel)",
   "language": "python",
   "name": "python3"
  },
  "language_info": {
   "codemirror_mode": {
    "name": "ipython",
    "version": 3
   },
   "file_extension": ".py",
   "mimetype": "text/x-python",
   "name": "python",
   "nbconvert_exporter": "python",
   "pygments_lexer": "ipython3",
   "version": "3.12.1"
  }
 },
 "nbformat": 4,
 "nbformat_minor": 5
}
