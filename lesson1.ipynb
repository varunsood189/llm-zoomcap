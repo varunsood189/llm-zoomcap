{
 "cells": [
  {
   "cell_type": "code",
   "execution_count": 19,
   "id": "7b99a6ca-0db1-4521-afc9-70ab6eaeeacb",
   "metadata": {},
   "outputs": [],
   "source": [
    "# from ai21 import AI21Client\n",
    "from ai21.models.chat import UserMessage\n",
    "\n",
    "# One way of passing your key to the client.\n",
    "import os\n",
    "AI21_API_KEY = os.environ[\"AI21_API_KEY\"]\n",
    "client = AI21Client(api_key=AI21_API_KEY)\n",
    "\n",
    "# Another way to set your key is by setting the AI21_API_KEY\n",
    "# environment variable to your key value. The default value\n",
    "# of api_key in the constructor is os.environ[\"AI21_API_KEY\"]. So:\n",
    "# import os\n",
    "# os.environ[\"AI21_API_KEY\"] =  <YOUR_API_KEY>\n",
    "# client = AI21Client();\n",
    "\n",
    "def single_message_instruct():\n",
    "    messages = [\n",
    "        UserMessage(\n",
    "            content=\"Tell me something I don't know. Limit the response to 30 words maximum.\"\n",
    "        )\n",
    "    ]\n",
    "\n",
    "    response = client.chat.completions.create(\n",
    "        model=\"jamba-1.5-large\",\n",
    "        messages=messages,\n",
    "        top_p=1.0 # Setting to 1 encourages different responses each call.\n",
    "    )\n",
    "    return response.to_json()\n"
   ]
  },
  {
   "cell_type": "code",
   "execution_count": 40,
   "id": "b6421210-0b12-461e-9913-cdc70de8962b",
   "metadata": {},
   "outputs": [
    {
     "name": "stderr",
     "output_type": "stream",
     "text": [
      "/tmp/ipykernel_6229/1413490135.py:28: DeprecationWarning: The 'to_json' method is deprecated and will be removed in a future version. Please use Pydantic's built-in methods instead.\n",
      "  return response.to_json()\n"
     ]
    }
   ],
   "source": [
    "response = single_message_instruct()"
   ]
  },
  {
   "cell_type": "code",
   "execution_count": 41,
   "id": "8010ab33-07b6-46ef-be62-fdd1653e23de",
   "metadata": {},
   "outputs": [
    {
     "data": {
      "text/plain": [
       "'The average person spends six months of their life waiting for red traffic lights to turn green.'"
      ]
     },
     "execution_count": 41,
     "metadata": {},
     "output_type": "execute_result"
    }
   ],
   "source": [
    "import json\n",
    "json_response = json.loads(response)\n",
    "json_response[\"choices\"][0][\"message\"][\"content\"]"
   ]
  },
  {
   "cell_type": "code",
   "execution_count": 42,
   "id": "cae5bc4f-9256-4d1b-8735-f223553d397d",
   "metadata": {},
   "outputs": [],
   "source": [
    "def something_new():\n",
    "    response = single_message_instruct()\n",
    "    json_response = json.loads(response)\n",
    "    content = json_response[\"choices\"][0][\"message\"][\"content\"]\n",
    "    return content"
   ]
  },
  {
   "cell_type": "code",
   "execution_count": 44,
   "id": "0c129b7b-8ffd-4d77-9d3f-c743fab8d78a",
   "metadata": {},
   "outputs": [
    {
     "name": "stdout",
     "output_type": "stream",
     "text": [
      "The longest hiccuping bout lasted 68 years.\n"
     ]
    },
    {
     "name": "stderr",
     "output_type": "stream",
     "text": [
      "/tmp/ipykernel_6229/1413490135.py:28: DeprecationWarning: The 'to_json' method is deprecated and will be removed in a future version. Please use Pydantic's built-in methods instead.\n",
      "  return response.to_json()\n"
     ]
    }
   ],
   "source": [
    "print(something_new())"
   ]
  },
  {
   "cell_type": "code",
   "execution_count": null,
   "id": "9cf3ae7a-2318-4e23-82b2-e7f41601fe27",
   "metadata": {},
   "outputs": [],
   "source": []
  }
 ],
 "metadata": {
  "kernelspec": {
   "display_name": "Python 3 (ipykernel)",
   "language": "python",
   "name": "python3"
  },
  "language_info": {
   "codemirror_mode": {
    "name": "ipython",
    "version": 3
   },
   "file_extension": ".py",
   "mimetype": "text/x-python",
   "name": "python",
   "nbconvert_exporter": "python",
   "pygments_lexer": "ipython3",
   "version": "3.12.1"
  }
 },
 "nbformat": 4,
 "nbformat_minor": 5
}
