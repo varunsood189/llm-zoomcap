{
 "cells": [
  {
   "cell_type": "code",
   "execution_count": 11,
   "id": "7b99a6ca-0db1-4521-afc9-70ab6eaeeacb",
   "metadata": {},
   "outputs": [],
   "source": [
    "from ai21 import AI21Client\n",
    "from ai21.models.chat import UserMessage\n",
    "\n",
    "# One way of passing your key to the client.\n",
    "import os\n",
    "AI21_API_KEY = os.environ[\"AI21_API_KEY\"]\n",
    "client = AI21Client(api_key=AI21_API_KEY)\n",
    "\n",
    "# Another way to set your key is by setting the AI21_API_KEY\n",
    "# environment variable to your key value. The default value\n",
    "# of api_key in the constructor is os.environ[\"AI21_API_KEY\"]. So:\n",
    "# import os\n",
    "# os.environ[\"AI21_API_KEY\"] =  <YOUR_API_KEY>\n",
    "# client = AI21Client();\n",
    "\n",
    "def single_message_instruct():\n",
    "    messages = [\n",
    "        UserMessage(\n",
    "            content=\"Is it too late to join the course?\"\n",
    "        )\n",
    "    ]\n",
    "\n",
    "    response = client.chat.completions.create(\n",
    "        model=\"jamba-1.5-large\",\n",
    "        messages=messages,\n",
    "        top_p=1.0 # Setting to 1 encourages different responses each call.\n",
    "    )\n",
    "    return response.to_json()\n"
   ]
  },
  {
   "cell_type": "code",
   "execution_count": 12,
   "id": "b6421210-0b12-461e-9913-cdc70de8962b",
   "metadata": {},
   "outputs": [
    {
     "name": "stderr",
     "output_type": "stream",
     "text": [
      "/tmp/ipykernel_11912/2495629510.py:28: DeprecationWarning: The 'to_json' method is deprecated and will be removed in a future version. Please use Pydantic's built-in methods instead.\n",
      "  return response.to_json()\n"
     ]
    }
   ],
   "source": [
    "response = single_message_instruct()"
   ]
  },
  {
   "cell_type": "code",
   "execution_count": 13,
   "id": "8010ab33-07b6-46ef-be62-fdd1653e23de",
   "metadata": {},
   "outputs": [
    {
     "data": {
      "text/plain": [
       "'It depends on the course and the institution offering it. Here are some steps you can take to find out:\\n\\n1. **Check the Course Website:** Look for information on deadlines for enrollment, registration dates, and any late enrollment policies.\\n\\n\\n2. **Contact the Instructor or Administration:** Send an email or call the course instructor or the administration office. They can provide the most accurate and up-to-date information regarding enrollment.\\n\\n\\n3. **Review the Syllabus:** If you have access to the course syllabus, check the schedule to see if you have missed any crucial assignments or classes.\\n\\n\\n4. **Consider the Course Format:** For online courses, late enrollment might be more flexible compared to in-person classes.\\n\\n\\nWould you like help drafting an email to inquire about joining the course?'"
      ]
     },
     "execution_count": 13,
     "metadata": {},
     "output_type": "execute_result"
    }
   ],
   "source": [
    "import json\n",
    "json_response = json.loads(response)\n",
    "json_response[\"choices\"][0][\"message\"][\"content\"]"
   ]
  },
  {
   "cell_type": "code",
   "execution_count": 14,
   "id": "cae5bc4f-9256-4d1b-8735-f223553d397d",
   "metadata": {},
   "outputs": [],
   "source": [
    "def something_new():\n",
    "    response = single_message_instruct()\n",
    "    json_response = json.loads(response)\n",
    "    content = json_response[\"choices\"][0][\"message\"][\"content\"]\n",
    "    return content"
   ]
  },
  {
   "cell_type": "code",
   "execution_count": 15,
   "id": "0c129b7b-8ffd-4d77-9d3f-c743fab8d78a",
   "metadata": {},
   "outputs": [
    {
     "name": "stdout",
     "output_type": "stream",
     "text": [
      "It depends on the course and its policies. Here are a few steps you can take to find out:\n",
      "\n",
      "1. **Check the Course Website:** Look for information about enrollment deadlines and whether late registrations are allowed.\n",
      "2. **Contact the Instructor or Administrator:** Send an email or call the course administrator or instructor to ask if it's possible to join late.\n",
      "3. **Review the Syllabus:** See how much of the course has already been covered and if you can catch up on missed material.\n",
      "4. **Consider the Impact:** Think about whether joining late will affect your ability to keep up with the coursework and if it will be worth it.\n",
      "\n",
      "If you provide more details about the course, I might be able to give more specific advice.\n"
     ]
    },
    {
     "name": "stderr",
     "output_type": "stream",
     "text": [
      "/tmp/ipykernel_11912/2495629510.py:28: DeprecationWarning: The 'to_json' method is deprecated and will be removed in a future version. Please use Pydantic's built-in methods instead.\n",
      "  return response.to_json()\n"
     ]
    }
   ],
   "source": [
    "print(something_new())"
   ]
  },
  {
   "cell_type": "code",
   "execution_count": null,
   "id": "9cf3ae7a-2318-4e23-82b2-e7f41601fe27",
   "metadata": {},
   "outputs": [],
   "source": []
  }
 ],
 "metadata": {
  "kernelspec": {
   "display_name": "Python 3 (ipykernel)",
   "language": "python",
   "name": "python3"
  },
  "language_info": {
   "codemirror_mode": {
    "name": "ipython",
    "version": 3
   },
   "file_extension": ".py",
   "mimetype": "text/x-python",
   "name": "python",
   "nbconvert_exporter": "python",
   "pygments_lexer": "ipython3",
   "version": "3.12.1"
  }
 },
 "nbformat": 4,
 "nbformat_minor": 5
}
