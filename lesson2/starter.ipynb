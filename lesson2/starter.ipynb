{
 "cells": [
  {
   "cell_type": "code",
   "execution_count": 14,
   "id": "506fab2a-a50c-42bd-a106-c83a9d2828ea",
   "metadata": {},
   "outputs": [
    {
     "name": "stdout",
     "output_type": "stream",
     "text": [
      "--2024-09-23 15:56:26--  https://raw.githubusercontent.com/alexeygrigorev/minsearch/main/minsearch.py\n",
      "Resolving raw.githubusercontent.com (raw.githubusercontent.com)... 185.199.111.133, 185.199.108.133, 185.199.109.133, ...\n",
      "Connecting to raw.githubusercontent.com (raw.githubusercontent.com)|185.199.111.133|:443... connected.\n",
      "HTTP request sent, awaiting response... 200 OK\n",
      "Length: 3832 (3.7K) [text/plain]\n",
      "Saving to: ‘minsearch.py’\n",
      "\n",
      "minsearch.py        100%[===================>]   3.74K  --.-KB/s    in 0s      \n",
      "\n",
      "2024-09-23 15:56:26 (29.7 MB/s) - ‘minsearch.py’ saved [3832/3832]\n",
      "\n"
     ]
    }
   ],
   "source": [
    "!rm -f minsearch.py\n",
    "!wget https://raw.githubusercontent.com/alexeygrigorev/minsearch/main/minsearch.py"
   ]
  },
  {
   "cell_type": "code",
   "execution_count": 15,
   "id": "3ac947de-effd-4b61-8792-a6d7a133f347",
   "metadata": {},
   "outputs": [
    {
     "data": {
      "text/plain": [
       "<minsearch.Index at 0x7a57604a3a10>"
      ]
     },
     "execution_count": 15,
     "metadata": {},
     "output_type": "execute_result"
    }
   ],
   "source": [
    "import requests \n",
    "import minsearch\n",
    "\n",
    "docs_url = 'https://github.com/DataTalksClub/llm-zoomcamp/blob/main/01-intro/documents.json?raw=1'\n",
    "docs_response = requests.get(docs_url)\n",
    "documents_raw = docs_response.json()\n",
    "\n",
    "documents = []\n",
    "\n",
    "for course in documents_raw:\n",
    "    course_name = course['course']\n",
    "\n",
    "    for doc in course['documents']:\n",
    "        doc['course'] = course_name\n",
    "        documents.append(doc)\n",
    "\n",
    "index = minsearch.Index(\n",
    "    text_fields=[\"question\", \"text\", \"section\"],\n",
    "    keyword_fields=[\"course\"]\n",
    ")\n",
    "\n",
    "index.fit(documents)"
   ]
  },
  {
   "cell_type": "code",
   "execution_count": 16,
   "id": "8f087272-b44d-4738-9ea2-175ec63a058b",
   "metadata": {},
   "outputs": [],
   "source": [
    "def search(query):\n",
    "    boost = {'question': 3.0, 'section': 0.5}\n",
    "\n",
    "    results = index.search(\n",
    "        query=query,\n",
    "        filter_dict={'course': 'data-engineering-zoomcamp'},\n",
    "        boost_dict=boost,\n",
    "        num_results=5\n",
    "    )\n",
    "\n",
    "    return results"
   ]
  },
  {
   "cell_type": "code",
   "execution_count": 43,
   "id": "742ab881-499a-4675-83c4-2013ea1377b9",
   "metadata": {},
   "outputs": [],
   "source": [
    "def build_prompt(query, search_results):\n",
    "    prompt_template = \"\"\"\n",
    "You're a course teaching assistant. Answer the QUESTION based on the CONTEXT from the FAQ database.\n",
    "Use only the facts from the CONTEXT when answering the QUESTION.\n",
    "\n",
    "QUESTION: {question}\n",
    "\n",
    "CONTEXT: \n",
    "{context}\n",
    "\"\"\".strip()\n",
    "\n",
    "    context = \"\"\n",
    "    \n",
    "    for doc in search_results:\n",
    "        context = context + f\"section: {doc['section']}\\nquestion: {doc['question']}\\nanswer: {doc['text']}\\n\\n\"\n",
    "    \n",
    "    prompt = prompt_template.format(question=query, context=context).strip()\n",
    "    return prompt\n",
    "\n",
    "def llm(prompt):\n",
    "    response = client.chat.completions.create(\n",
    "        model='phi3',\n",
    "        messages=[{\"role\": \"user\", \"content\": prompt}]\n",
    "    )\n",
    "    \n",
    "    return response.choices[0].message.content"
   ]
  },
  {
   "cell_type": "code",
   "execution_count": 51,
   "id": "5dff448d-2a7c-4f7f-b632-49b1eded84ab",
   "metadata": {},
   "outputs": [],
   "source": [
    "from openai import OpenAI\n",
    "client  = OpenAI(\n",
    "    base_url='http://localhost:11434/v1/',\n",
    "    api_key='ollama'\n",
    ")"
   ]
  },
  {
   "cell_type": "code",
   "execution_count": 52,
   "id": "fe8bff3e-b672-42be-866b-f2d9bb217106",
   "metadata": {},
   "outputs": [],
   "source": [
    "def rag(query):\n",
    "    search_results = search(query)\n",
    "    prompt = build_prompt(query, search_results)\n",
    "    answer = llm(prompt)\n",
    "    return answer"
   ]
  },
  {
   "cell_type": "code",
   "execution_count": null,
   "id": "ad349c6d-759d-44e9-86ff-6b02b3464e1c",
   "metadata": {},
   "outputs": [],
   "source": []
  },
  {
   "cell_type": "code",
   "execution_count": 53,
   "id": "988ece59-951a-4b32-ba3f-cb8efb66a9bb",
   "metadata": {},
   "outputs": [
    {
     "data": {
      "text/plain": [
       "'```markdown\\n# Answer to General Course-related Questions: How do I use Git / GitHub for this course?\\nTo utilize Git and GitHub during our analytics engineering with dbt module part of the Data Engineering Specialization offered by Google Developers Online Professional Certificate, please follow these steps after creating a basic understanding from \"Git for Everybody\" video tutorial. Here are detailed instructions incorporating best practices: Please note that I am providing general guidance as my capabilities do not include real-time interactions or live status displays such as those featured in the provided context.\\n \\nFirstly, create an account on GitHub if you haven\\'t already done so by following their signup process outlined at www.github.com/join. Once your account is established and verified:\\n1. Open a terminal window (Linux or Mac) where Git will be utilized. If using Windows with Cygwin, MSYS, MinTTY, ConEMU Linux Terminal emulator as referenced in the provided context, please download these software packages beforehand from their respective homepages on Google Code. After downloading and executing them appropriately installed `git-bash`:\\n2.. Navigate to your workspace directory where course files will be cloned by using: \\n```\\n$ git clone https://github.com/your_course_repo.git dbt-analytics-tutorial\\n```\\n3.... Change directories into the newly created folder with command:         `cd dbt-analytics-tutorial`    and ensure that you have made a GitHub account, navigate to your workstation directory where course files are present using this URL `$ cd /PATH/TO/YOUR_COURSE_DIRECTORY`.     \\n4.. Type in the following line inside Git Bash. The `--quiet` flag suppresses output:     `git pull --quiet origin master`    This command effectively updates your local repository with changes made on GitHub - if there are any, or it won\\'t display error messages during this process since you have requested no feedback from these operations.\\n5.... After making desired modifications within the project code, switch to a new branch using:          `git checkout -b my-devBranch`. The command above creates and activates your custom branches for development purposes as mentioned in course FAQs that provide an effective way of working on different aspects concurrently without causing disruption by merging untested modifications back into the master version prematurely.\\n6.....To save changes from this branch before attempting to amalgamate them with other code, merge using:       `git checkout my-devBranch`      ... 8....... When your alterations are finalized and ready for integration or release via merging back into the mainline version - \\'master\\' (or production) of course repository content -- execute following command sequence which effectively moves tested modifications seamlessly from a development branch to master ensuring continuation in clean, organized project management within GitHub:        `git checkout my-devBranch       git merge dev_features         ...\\n10...... If you want the community\\'s assistance regarding complex issues like reading and writing files across different cloud storage regions or dealing with specific errors such as Connection Abort/TimeOutError for MAGENTA.io components, reference materials from respective FAQ entries provided by dbt + mage developers are available in their online documentation hub (https://dangitgit.com/) supplemented alongside instructor guidance to mitigate your challenges appropriately along with recommended troubleshooting methods ensuring consistency with the course\\'s best practices standards while using repository version controls like MAGENTA for BI applications handling databases similar in complexity and scale, which require specialized understanding beyond a basic Git workflow.\\n```'"
      ]
     },
     "execution_count": 53,
     "metadata": {},
     "output_type": "execute_result"
    }
   ],
   "source": [
    "rag(\"Write that this is a test\")"
   ]
  },
  {
   "cell_type": "code",
   "execution_count": 54,
   "id": "bb78852b-beee-4ff4-8c53-fd9eea4ec104",
   "metadata": {},
   "outputs": [
    {
     "name": "stdout",
     "output_type": "stream",
     "text": [
      "```markdown\n",
      "# Answer to General Course-related Questions: How do I use Git / GitHub for this course?\n",
      "To utilize Git and GitHub during our analytics engineering with dbt module part of the Data Engineering Specialization offered by Google Developers Online Professional Certificate, please follow these steps after creating a basic understanding from \"Git for Everybody\" video tutorial. Here are detailed instructions incorporating best practices: Please note that I am providing general guidance as my capabilities do not include real-time interactions or live status displays such as those featured in the provided context.\n",
      " \n",
      "Firstly, create an account on GitHub if you haven't already done so by following their signup process outlined at www.github.com/join. Once your account is established and verified:\n",
      "1. Open a terminal window (Linux or Mac) where Git will be utilized. If using Windows with Cygwin, MSYS, MinTTY, ConEMU Linux Terminal emulator as referenced in the provided context, please download these software packages beforehand from their respective homepages on Google Code. After downloading and executing them appropriately installed `git-bash`:\n",
      "2.. Navigate to your workspace directory where course files will be cloned by using: \n",
      "```\n",
      "$ git clone https://github.com/your_course_repo.git dbt-analytics-tutorial\n",
      "```\n",
      "3.... Change directories into the newly created folder with command:         `cd dbt-analytics-tutorial`    and ensure that you have made a GitHub account, navigate to your workstation directory where course files are present using this URL `$ cd /PATH/TO/YOUR_COURSE_DIRECTORY`.     \n",
      "4.. Type in the following line inside Git Bash. The `--quiet` flag suppresses output:     `git pull --quiet origin master`    This command effectively updates your local repository with changes made on GitHub - if there are any, or it won't display error messages during this process since you have requested no feedback from these operations.\n",
      "5.... After making desired modifications within the project code, switch to a new branch using:          `git checkout -b my-devBranch`. The command above creates and activates your custom branches for development purposes as mentioned in course FAQs that provide an effective way of working on different aspects concurrently without causing disruption by merging untested modifications back into the master version prematurely.\n",
      "6.....To save changes from this branch before attempting to amalgamate them with other code, merge using:       `git checkout my-devBranch`      ... 8....... When your alterations are finalized and ready for integration or release via merging back into the mainline version - 'master' (or production) of course repository content -- execute following command sequence which effectively moves tested modifications seamlessly from a development branch to master ensuring continuation in clean, organized project management within GitHub:        `git checkout my-devBranch       git merge dev_features         ...\n",
      "10...... If you want the community's assistance regarding complex issues like reading and writing files across different cloud storage regions or dealing with specific errors such as Connection Abort/TimeOutError for MAGENTA.io components, reference materials from respective FAQ entries provided by dbt + mage developers are available in their online documentation hub (https://dangitgit.com/) supplemented alongside instructor guidance to mitigate your challenges appropriately along with recommended troubleshooting methods ensuring consistency with the course's best practices standards while using repository version controls like MAGENTA for BI applications handling databases similar in complexity and scale, which require specialized understanding beyond a basic Git workflow.\n",
      "```\n"
     ]
    }
   ],
   "source": [
    "print(_)"
   ]
  },
  {
   "cell_type": "code",
   "execution_count": null,
   "id": "2929f907-235c-4c50-9288-de505aad81d6",
   "metadata": {},
   "outputs": [],
   "source": []
  }
 ],
 "metadata": {
  "kernelspec": {
   "display_name": "Python 3 (ipykernel)",
   "language": "python",
   "name": "python3"
  },
  "language_info": {
   "codemirror_mode": {
    "name": "ipython",
    "version": 3
   },
   "file_extension": ".py",
   "mimetype": "text/x-python",
   "name": "python",
   "nbconvert_exporter": "python",
   "pygments_lexer": "ipython3",
   "version": "3.12.2"
  }
 },
 "nbformat": 4,
 "nbformat_minor": 5
}
