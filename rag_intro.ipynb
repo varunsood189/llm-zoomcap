{
 "cells": [
  {
   "cell_type": "markdown",
   "id": "a5f7426e-701a-46b0-a300-edf851e5b3d3",
   "metadata": {},
   "source": [
    "### code from https://github.com/DataTalksClub/llm-zoomcamp/blob/main/01-intro/rag-intro.ipynb"
   ]
  },
  {
   "cell_type": "code",
   "execution_count": 1,
   "id": "88e57bfa-a2a9-4a0b-a79b-baff3041ec05",
   "metadata": {},
   "outputs": [
    {
     "name": "stdout",
     "output_type": "stream",
     "text": [
      "--2024-09-19 13:47:34--  https://raw.githubusercontent.com/alexeygrigorev/minsearch/main/minsearch.py\n",
      "Resolving raw.githubusercontent.com (raw.githubusercontent.com)... 185.199.108.133, 185.199.111.133, 185.199.110.133, ...\n",
      "Connecting to raw.githubusercontent.com (raw.githubusercontent.com)|185.199.108.133|:443... connected.\n",
      "HTTP request sent, awaiting response... 200 OK\n",
      "Length: 3832 (3.7K) [text/plain]\n",
      "Saving to: ‘minsearch.py.2’\n",
      "\n",
      "minsearch.py.2      100%[===================>]   3.74K  --.-KB/s    in 0.001s  \n",
      "\n",
      "2024-09-19 13:47:34 (5.43 MB/s) - ‘minsearch.py.2’ saved [3832/3832]\n",
      "\n"
     ]
    }
   ],
   "source": [
    "# !wget https://raw.githubusercontent.com/alexeygrigorev/minsearch/main/minsearch.py"
   ]
  },
  {
   "cell_type": "code",
   "execution_count": 1,
   "id": "71a67c1d-f728-4617-9f61-1935156a567a",
   "metadata": {},
   "outputs": [],
   "source": [
    "import minsearch"
   ]
  },
  {
   "cell_type": "code",
   "execution_count": 2,
   "id": "21f09cea-ec86-4b52-b7ab-4be8946c4f84",
   "metadata": {},
   "outputs": [],
   "source": [
    "import json"
   ]
  },
  {
   "cell_type": "code",
   "execution_count": 3,
   "id": "623c3cfe-bf2a-41b7-bbb7-50c130a6d772",
   "metadata": {},
   "outputs": [],
   "source": [
    "with open('documents.json','rt') as f_in:\n",
    "    docs_raw = json.load(f_in)"
   ]
  },
  {
   "cell_type": "code",
   "execution_count": 4,
   "id": "75ddd35d-5150-4cc1-adb5-75b912871f40",
   "metadata": {},
   "outputs": [],
   "source": [
    "documents =[]\n",
    "for docs in docs_raw:\n",
    "    for doc in  docs[\"documents\"]: \n",
    "        doc[\"course\"] =docs[\"course\"]\n",
    "        documents.append(doc)"
   ]
  },
  {
   "cell_type": "code",
   "execution_count": 5,
   "id": "654ea9e7-5492-440e-9008-bc0fc4ed4a25",
   "metadata": {},
   "outputs": [
    {
     "data": {
      "text/plain": [
       "dict_keys(['text', 'section', 'question', 'course'])"
      ]
     },
     "execution_count": 5,
     "metadata": {},
     "output_type": "execute_result"
    }
   ],
   "source": [
    "documents[0].keys()"
   ]
  },
  {
   "cell_type": "code",
   "execution_count": 6,
   "id": "52c1c09b-4958-4ed6-8b6c-74ea5862f7d3",
   "metadata": {},
   "outputs": [],
   "source": [
    "from minsearch import Index\n",
    "\n",
    "index = Index(\n",
    "    text_fields=[\"question\", \"text\", \"section\"],\n",
    "    keyword_fields=[\"course\"]\n",
    ")"
   ]
  },
  {
   "cell_type": "code",
   "execution_count": 7,
   "id": "cd124726-0ee7-40ad-9fe6-bc21e7542e68",
   "metadata": {},
   "outputs": [
    {
     "data": {
      "text/plain": [
       "<minsearch.Index at 0x7c4ae0434ad0>"
      ]
     },
     "execution_count": 7,
     "metadata": {},
     "output_type": "execute_result"
    }
   ],
   "source": [
    "index.fit(documents)"
   ]
  },
  {
   "cell_type": "code",
   "execution_count": 8,
   "id": "ee52c5b1-0900-4dbe-8b47-9c9df6557625",
   "metadata": {
    "scrolled": true
   },
   "outputs": [
    {
     "name": "stdout",
     "output_type": "stream",
     "text": [
      "{'text': \"Yes, even if you don't register, you're still eligible to submit.\\nBe aware, however, that there will be deadlines for turning in the final projects. So don't leave everything for the last minute.\", 'section': 'General course-related questions', 'question': 'Course - Can I still join the course after the start date?', 'course': 'data-engineering-zoomcamp'}\n",
      "{'text': 'Yes, we will keep all the materials after the course /finishes, so you can follow the course at your own pace after it finishes.\\nYou can also continue looking at the homeworks and continue preparing for the next cohort. I guess you can also start working on your final capstone project.', 'section': 'General course-related questions', 'question': 'Course - Can I follow the course after it finishes?', 'course': 'data-engineering-zoomcamp'}\n",
      "{'text': 'You can start by installing and setting up all the dependencies and requirements:\\nGoogle cloud account\\nGoogle Cloud SDK\\nPython 3 (installed with Anaconda)\\nGit\\nLook over the prerequisites and syllabus to see if you are comfortable with these subjects.', 'section': 'General course-related questions', 'question': 'Course - What can I do before the course starts?', 'course': 'data-engineering-zoomcamp'}\n",
      "{'text': \"The purpose of this document is to capture frequently asked\\ntechnical question\\nThe next cohort starts in Jan 2025. More inFo at DTC Article.\\nRegister before the course starts using this link.\\nJoin the course Telegram channel with announcements.\\nDon’t forget to register in DataTalks.Club's Slack and join the channel.\", 'section': 'General course-related questions', 'question': 'Course - When will the course start?', 'course': 'data-engineering-zoomcamp'}\n",
      "{'text': 'Yes, the slack channel remains open and you can ask questions there. But always search the channel first and second, check the FAQ (this document), most likely all your questions are already answered here.\\nYou can also tag the bot @ZoomcampQABot to help you conduct the search, but don’t rely on its answers 100%, it is pretty good though.', 'section': 'General course-related questions', 'question': 'Course - Can I get support if I take the course in the self-paced mode?', 'course': 'data-engineering-zoomcamp'}\n",
      "{'text': 'Star the repo! Share it with friends if you find it useful ❣️\\nCreate a PR if you see you can improve the text or the structure of the repository.', 'section': 'General course-related questions', 'question': 'How can we contribute to the course?', 'course': 'data-engineering-zoomcamp'}\n",
      "{'text': 'GitHub - See DE-zoomcamp  prerequisites', 'section': 'General course-related questions', 'question': 'Course - What are the prerequisites for this course?', 'course': 'data-engineering-zoomcamp'}\n",
      "{'text': \"No, you can only get a certificate if you finish the course with a “live” cohort. We don't award certificates for the self-paced mode. The reason is you need to peer-review capstone(s) after submitting a project. You can only peer-review projects at the time the course is running.\", 'section': 'General course-related questions', 'question': 'Certificate - Can I follow the course in a self-paced mode and get a certificate?', 'course': 'data-engineering-zoomcamp'}\n",
      "{'text': 'Yes, for simplicity (of troubleshooting against the recorded videos) and stability. [source]\\nBut Python 3.10 and 3.11 should work fine.', 'section': 'General course-related questions', 'question': 'Environment - Is Python 3.9 still the recommended version to use in 2024?', 'course': 'data-engineering-zoomcamp'}\n",
      "{'text': \"It's up to you which platform and environment you use for the course.\\nGithub codespaces or GCP VM are just possible options, but you can do the entire course from your laptop.\", 'section': 'General course-related questions', 'question': 'Environment - Do we really have to use GitHub codespaces? I already have PostgreSQL & Docker installed.', 'course': 'data-engineering-zoomcamp'}\n"
     ]
    }
   ],
   "source": [
    "query = \"The course has already started can i still enroll?\"\n",
    "\n",
    "filter_dict = {\"course\": \"data-engineering-zoomcamp\"}\n",
    "boost_dict = {\"question\": 3, \"section\": 0.5}\n",
    "\n",
    "results = index.search(\n",
    "    query,\n",
    "    filter_dict, \n",
    "    boost_dict\n",
    ")\n",
    "\n",
    "for result in results:\n",
    "    print(result)"
   ]
  },
  {
   "cell_type": "code",
   "execution_count": 9,
   "id": "e8953fcb-7d2b-45d7-bc0e-6bad9a848459",
   "metadata": {},
   "outputs": [],
   "source": [
    "prompt_template=\"\"\"\n",
    "You are a teaching assistant, Please answer the QUESTION based on facts from the CONTEXT, \n",
    "If CONTEXT doesnot have the facts, Please answer with NONE.\n",
    "\n",
    "QUESTION: {question}\n",
    "\n",
    "CONTEXT: {context}\n",
    "\"\"\".strip()"
   ]
  },
  {
   "cell_type": "code",
   "execution_count": 10,
   "id": "24441164-716d-46b7-bb17-76a89e0e3b6d",
   "metadata": {},
   "outputs": [],
   "source": [
    "from ai21 import AI21Client\n",
    "from ai21.models.chat import UserMessage\n",
    "\n",
    "# One way of passing your key to the client.\n",
    "import os\n",
    "AI21_API_KEY = os.environ[\"AI21_API_KEY\"]\n",
    "client = AI21Client(api_key=AI21_API_KEY)\n",
    "\n",
    "def single_message_instruct(content):\n",
    "    messages = [UserMessage(content=content)]\n",
    "    response = client.chat.completions.create(\n",
    "        model=\"jamba-1.5-large\",\n",
    "        messages=messages,\n",
    "        top_p=1.0 # Setting to 1 encourages different responses each call.\n",
    "    )\n",
    "    return response.to_json()\n"
   ]
  },
  {
   "cell_type": "code",
   "execution_count": 11,
   "id": "7a2854a1-11cd-4cf1-9ec1-dcdc692042b2",
   "metadata": {},
   "outputs": [
    {
     "name": "stderr",
     "output_type": "stream",
     "text": [
      "/tmp/ipykernel_18558/168767803.py:21: DeprecationWarning: The 'to_json' method is deprecated and will be removed in a future version. Please use Pydantic's built-in methods instead.\n",
      "  return response.to_json()\n"
     ]
    }
   ],
   "source": [
    "response = single_message_instruct(query)"
   ]
  },
  {
   "cell_type": "code",
   "execution_count": 12,
   "id": "ad88119f-72d6-4bde-b9ee-1af1a79fcd07",
   "metadata": {},
   "outputs": [
    {
     "data": {
      "text/plain": [
       "\"Whether you can still enroll in a course that has already started depends on the policies of the institution or organization offering the course. Here are some general steps you can take to find out:\\n\\n1. **Check the Course Website**: Look for information on enrollment deadlines and policies on the course's official website.\\n\\n\\n2. **Contact the Registrar or Admissions Office**: If it's an academic institution, reach out to the registrar or admissions office. They can provide specific details about late enrollment.\\n\\n\\n3. **Email the Course Instructor**: For more informal or online courses, you might be able to contact the instructor directly to ask if late enrollment is possible.\\n\\n\\n4. **Visit the Course Office**: If the course is part of a local institution, visiting the office in person can sometimes yield quicker results.\\n\\n\\n5. **Check Online Forums or FAQs**: Some courses have online forums or FAQ sections where such questions are addressed.\\n\\n\\nWould you like help finding specific information on a particular course? If so, please provide more details.\""
      ]
     },
     "execution_count": 12,
     "metadata": {},
     "output_type": "execute_result"
    }
   ],
   "source": [
    "import json\n",
    "json_response = json.loads(response)\n",
    "json_response[\"choices\"][0][\"message\"][\"content\"]"
   ]
  },
  {
   "cell_type": "code",
   "execution_count": 13,
   "id": "d9610ac9-a437-4b97-af97-22a67bd2fe64",
   "metadata": {},
   "outputs": [],
   "source": [
    "def something_new(content):\n",
    "    response = single_message_instruct(content)\n",
    "    json_response = json.loads(response)\n",
    "    content = json_response[\"choices\"][0][\"message\"][\"content\"]\n",
    "    return content"
   ]
  },
  {
   "cell_type": "code",
   "execution_count": 14,
   "id": "e1bc32da-1354-4cad-bf4c-b6d3c84be5ae",
   "metadata": {},
   "outputs": [
    {
     "name": "stdout",
     "output_type": "stream",
     "text": [
      "Yes, you can still enroll in the course. Please follow these steps to complete your enrollment:\n",
      "\n",
      "1. **Visit the Enrollment Page:** Go to the course enrollment page on the university's website.\n",
      "2. **Fill Out the Application Form:** Complete the online application form with your personal and academic information.\n",
      "3. **Submit Required Documents:** Upload necessary documents such as transcripts, identification, and any other required materials.\n",
      "4. **Pay the Enrollment Fee:** Pay the enrollment fee through the university's payment portal.\n",
      "5. **Confirmation:** Once you have completed these steps, you will receive a confirmation email with further instructions.\n",
      "\n",
      "If you have any questions or need assistance, please contact the admissions office at [admissions office contact information].\n"
     ]
    },
    {
     "name": "stderr",
     "output_type": "stream",
     "text": [
      "/tmp/ipykernel_18558/168767803.py:21: DeprecationWarning: The 'to_json' method is deprecated and will be removed in a future version. Please use Pydantic's built-in methods instead.\n",
      "  return response.to_json()\n"
     ]
    }
   ],
   "source": [
    "print(something_new(query))"
   ]
  },
  {
   "cell_type": "code",
   "execution_count": 15,
   "id": "f1a7a142-8c45-494f-9013-43ee047d6a5f",
   "metadata": {},
   "outputs": [],
   "source": [
    "context =\"\"\n",
    "for doc in results:\n",
    "    context =context+f\"section: {doc['section']} \\nquestion: {doc[\"question\"]}\\n answer: {doc[\"text\"]} \\n\\n\"\n",
    "    "
   ]
  },
  {
   "cell_type": "code",
   "execution_count": 16,
   "id": "60df5d9b-cc59-46cb-bc66-3306115157de",
   "metadata": {},
   "outputs": [],
   "source": [
    "prompt = prompt_template.format(question=query , context=context).strip()"
   ]
  },
  {
   "cell_type": "code",
   "execution_count": 17,
   "id": "1729e62e-2298-43e3-9307-6e92bef04fdc",
   "metadata": {
    "scrolled": true
   },
   "outputs": [
    {
     "name": "stdout",
     "output_type": "stream",
     "text": [
      "You are a teaching assistant, Please answer the QUESTION based on facts from the CONTEXT, \n",
      "If CONTEXT doesnot have the facts, Please answer with NONE.\n",
      "\n",
      "QUESTION: The course has already started can i still enroll?\n",
      "\n",
      "CONTEXT: section: General course-related questions \n",
      "question: Course - Can I still join the course after the start date?\n",
      " answer: Yes, even if you don't register, you're still eligible to submit.\n",
      "Be aware, however, that there will be deadlines for turning in the final projects. So don't leave everything for the last minute. \n",
      "\n",
      "section: General course-related questions \n",
      "question: Course - Can I follow the course after it finishes?\n",
      " answer: Yes, we will keep all the materials after the course /finishes, so you can follow the course at your own pace after it finishes.\n",
      "You can also continue looking at the homeworks and continue preparing for the next cohort. I guess you can also start working on your final capstone project. \n",
      "\n",
      "section: General course-related questions \n",
      "question: Course - What can I do before the course starts?\n",
      " answer: You can start by installing and setting up all the dependencies and requirements:\n",
      "Google cloud account\n",
      "Google Cloud SDK\n",
      "Python 3 (installed with Anaconda)\n",
      "Git\n",
      "Look over the prerequisites and syllabus to see if you are comfortable with these subjects. \n",
      "\n",
      "section: General course-related questions \n",
      "question: Course - When will the course start?\n",
      " answer: The purpose of this document is to capture frequently asked\n",
      "technical question\n",
      "The next cohort starts in Jan 2025. More inFo at DTC Article.\n",
      "Register before the course starts using this link.\n",
      "Join the course Telegram channel with announcements.\n",
      "Don’t forget to register in DataTalks.Club's Slack and join the channel. \n",
      "\n",
      "section: General course-related questions \n",
      "question: Course - Can I get support if I take the course in the self-paced mode?\n",
      " answer: Yes, the slack channel remains open and you can ask questions there. But always search the channel first and second, check the FAQ (this document), most likely all your questions are already answered here.\n",
      "You can also tag the bot @ZoomcampQABot to help you conduct the search, but don’t rely on its answers 100%, it is pretty good though. \n",
      "\n",
      "section: General course-related questions \n",
      "question: How can we contribute to the course?\n",
      " answer: Star the repo! Share it with friends if you find it useful ❣️\n",
      "Create a PR if you see you can improve the text or the structure of the repository. \n",
      "\n",
      "section: General course-related questions \n",
      "question: Course - What are the prerequisites for this course?\n",
      " answer: GitHub - See DE-zoomcamp  prerequisites \n",
      "\n",
      "section: General course-related questions \n",
      "question: Certificate - Can I follow the course in a self-paced mode and get a certificate?\n",
      " answer: No, you can only get a certificate if you finish the course with a “live” cohort. We don't award certificates for the self-paced mode. The reason is you need to peer-review capstone(s) after submitting a project. You can only peer-review projects at the time the course is running. \n",
      "\n",
      "section: General course-related questions \n",
      "question: Environment - Is Python 3.9 still the recommended version to use in 2024?\n",
      " answer: Yes, for simplicity (of troubleshooting against the recorded videos) and stability. [source]\n",
      "But Python 3.10 and 3.11 should work fine. \n",
      "\n",
      "section: General course-related questions \n",
      "question: Environment - Do we really have to use GitHub codespaces? I already have PostgreSQL & Docker installed.\n",
      " answer: It's up to you which platform and environment you use for the course.\n",
      "Github codespaces or GCP VM are just possible options, but you can do the entire course from your laptop.\n"
     ]
    }
   ],
   "source": [
    "print(prompt)"
   ]
  },
  {
   "cell_type": "code",
   "execution_count": 18,
   "id": "c8c48eed-3df3-40b1-942e-742282ea17c7",
   "metadata": {},
   "outputs": [
    {
     "name": "stdout",
     "output_type": "stream",
     "text": [
      "Yes, even if you don't register, you're still eligible to submit. Be aware, however, that there will be deadlines for turning in the final projects. So don't leave everything for the last minute.\n"
     ]
    },
    {
     "name": "stderr",
     "output_type": "stream",
     "text": [
      "/tmp/ipykernel_18558/168767803.py:21: DeprecationWarning: The 'to_json' method is deprecated and will be removed in a future version. Please use Pydantic's built-in methods instead.\n",
      "  return response.to_json()\n"
     ]
    }
   ],
   "source": [
    "print(something_new(prompt))"
   ]
  },
  {
   "cell_type": "markdown",
   "id": "84eabf50-5e02-4fdf-8d4b-c6da872ee0d4",
   "metadata": {},
   "source": [
    "# modularization"
   ]
  },
  {
   "cell_type": "code",
   "execution_count": 24,
   "id": "7dddf174-d36e-4c62-b3d5-8f9aad6fb2a3",
   "metadata": {
    "scrolled": true
   },
   "outputs": [],
   "source": [
    "# rag: retrieval \n",
    "def search(query):    \n",
    "    filter_dict = {\"course\": \"data-engineering-zoomcamp\"}\n",
    "    boost_dict = {\"question\": 3, \"section\": 0.5}\n",
    "    \n",
    "    results = index.search(\n",
    "        query,\n",
    "        filter_dict, \n",
    "        boost_dict\n",
    "    )\n",
    "    return results\n",
    "search_results = search(\"The course has already started can i still enroll?\")"
   ]
  },
  {
   "cell_type": "code",
   "execution_count": 26,
   "id": "c33da40a-6cef-49eb-bdd4-aed49e0ccee0",
   "metadata": {},
   "outputs": [],
   "source": [
    "# rag: augmentation \n",
    "def build_prompt(query,search_results):\n",
    "    prompt_template=\"\"\"\n",
    "You are a teaching assistant, Please answer the QUESTION based on facts from the CONTEXT, \n",
    "If CONTEXT doesnot have the facts, Please answer with NONE.\n",
    "\n",
    "QUESTION: {question}\n",
    "\n",
    "CONTEXT: {context}\n",
    "\"\"\".strip()\n",
    "    context =\"\"\n",
    "    for doc in results:\n",
    "        context =context+f\"section: {doc['section']} \\nquestion: {doc[\"question\"]}\\n answer: {doc[\"text\"]} \\n\\n\"\n",
    "    prompt = prompt_template.format(question=query , context=context).strip()\n",
    "    return prompt \n",
    "prompt = build_prompt(query,search_results)"
   ]
  },
  {
   "cell_type": "code",
   "execution_count": 29,
   "id": "ae945ea7-76b8-4523-9dc4-6878642d53e5",
   "metadata": {},
   "outputs": [
    {
     "name": "stderr",
     "output_type": "stream",
     "text": [
      "/tmp/ipykernel_18558/1652257752.py:17: DeprecationWarning: The 'to_json' method is deprecated and will be removed in a future version. Please use Pydantic's built-in methods instead.\n",
      "  return response.to_json()\n"
     ]
    },
    {
     "data": {
      "text/plain": [
       "\"Yes, even if you don't register, you're still eligible to submit. Be aware, however, that there will be deadlines for turning in the final projects. So don't leave everything for the last minute.\""
      ]
     },
     "execution_count": 29,
     "metadata": {},
     "output_type": "execute_result"
    }
   ],
   "source": [
    "# rag: generation \n",
    "from ai21 import AI21Client\n",
    "from ai21.models.chat import UserMessage\n",
    "\n",
    "# One way of passing your key to the client.\n",
    "import os\n",
    "AI21_API_KEY = os.environ[\"AI21_API_KEY\"]\n",
    "client = AI21Client(api_key=AI21_API_KEY)\n",
    "\n",
    "def single_message_instruct(content):\n",
    "    messages = [UserMessage(content=content)]\n",
    "    response = client.chat.completions.create(\n",
    "        model=\"jamba-1.5-large\",\n",
    "        messages=messages,\n",
    "        top_p=1.0 # Setting to 1 encourages different responses each call.\n",
    "    )\n",
    "    return response.to_json()\n",
    "\n",
    "def llm(prompt):\n",
    "    response = single_message_instruct(prompt)\n",
    "    json_response = json.loads(response)\n",
    "    content = json_response[\"choices\"][0][\"message\"][\"content\"]\n",
    "    return content\n",
    "llm(prompt)\n"
   ]
  },
  {
   "cell_type": "code",
   "execution_count": 33,
   "id": "7c5c787e-0805-435a-a139-f8dae4dabae8",
   "metadata": {},
   "outputs": [
    {
     "name": "stderr",
     "output_type": "stream",
     "text": [
      "/tmp/ipykernel_18558/1652257752.py:17: DeprecationWarning: The 'to_json' method is deprecated and will be removed in a future version. Please use Pydantic's built-in methods instead.\n",
      "  return response.to_json()\n"
     ]
    },
    {
     "data": {
      "text/plain": [
       "'To run Kafka, you can follow these steps:\\n\\n1. **Install Kafka**: Download and extract Kafka from the official Apache Kafka website or use a package manager like Homebrew or apt-get.\\n\\n\\n2. **Start Zookeeper**: Kafka uses Zookeeper for distributed coordination. Start Zookeeper by running the following command:\\n\\n\\n```sh\\nbin/zookeeper-server-start.sh config/zookeeper.properties\\n```\\n\\n\\n3. **Start Kafka Broker**: Start the Kafka broker by running the following command:\\n\\n\\n```sh\\nbin/kafka-server-start.sh config/server.properties\\n```\\n\\n\\n4. **Create a Topic**: Create a topic to store your messages. Run the following command:\\n\\n\\n```sh\\nbin/kafka-topics.sh --create --zookeeper localhost:2181 --replication-factor 1 --partitions 1 --topic test\\n```\\n\\n\\n5. **Produce Messages**: Start a producer to send messages to the topic. Run the following command:\\n\\n\\n```sh\\nbin/kafka-console-producer.sh --broker-list localhost:9092 --topic test\\n```\\n\\n\\n6. **Consume Messages**: Start a consumer to receive messages from the topic. Run the following command:\\n\\n\\n```sh\\nbin/kafka-console-consumer.sh --bootstrap-server localhost:9092 --topic test --from-beginning\\n```\\n\\n\\nThese steps will help you run Kafka and perform basic operations like creating a topic, producing, and consuming messages.'"
      ]
     },
     "execution_count": 33,
     "metadata": {},
     "output_type": "execute_result"
    }
   ],
   "source": [
    "query = \"How to run kafka?\"\n",
    "def rag(query):\n",
    "    search_results = search(query)\n",
    "    prompt = build_prompt(query,search_results)\n",
    "    answer = llm(prompt)\n",
    "    return answer\n",
    "rag(query)"
   ]
  },
  {
   "cell_type": "code",
   "execution_count": null,
   "id": "5ab11c2d-817b-4557-993a-8f6cef8e6a48",
   "metadata": {},
   "outputs": [],
   "source": []
  }
 ],
 "metadata": {
  "kernelspec": {
   "display_name": "Python 3 (ipykernel)",
   "language": "python",
   "name": "python3"
  },
  "language_info": {
   "codemirror_mode": {
    "name": "ipython",
    "version": 3
   },
   "file_extension": ".py",
   "mimetype": "text/x-python",
   "name": "python",
   "nbconvert_exporter": "python",
   "pygments_lexer": "ipython3",
   "version": "3.12.1"
  }
 },
 "nbformat": 4,
 "nbformat_minor": 5
}
